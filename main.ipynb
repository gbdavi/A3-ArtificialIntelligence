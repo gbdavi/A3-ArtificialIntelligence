{
 "cells": [
  {
   "cell_type": "code",
   "execution_count": null,
   "metadata": {
    "id": "TSkfk-vDhh8F"
   },
   "outputs": [],
   "source": [
    "import pandas as pd\n",
    "import numpy as np\n",
    "import matplotlib.pyplot as plt\n",
    "\n",
    "from sklearn.naive_bayes import GaussianNB\n",
    "from sklearn.tree import DecisionTreeClassifier\n",
    "from sklearn.svm import SVC\n",
    "from sklearn.neighbors import KNeighborsClassifier\n",
    "from sklearn.neural_network import MLPClassifier\n",
    "\n",
    "from sklearn.model_selection import train_test_split, GridSearchCV\n",
    "from sklearn.pipeline import Pipeline\n",
    "from sklearn.metrics import confusion_matrix, ConfusionMatrixDisplay, accuracy_score, f1_score"
   ]
  },
  {
   "cell_type": "markdown",
   "metadata": {
    "id": "RccDw88s1tU2"
   },
   "source": [
    "# Read/rename data"
   ]
  },
  {
   "cell_type": "code",
   "execution_count": null,
   "metadata": {
    "id": "74F33wnSicjp"
   },
   "outputs": [],
   "source": [
    "df = pd.read_csv(\"content/mental_health_diagnosis_treatment_.csv\")\n",
    "\n",
    "df = df.rename(columns={\n",
    "    'Therapy Type': 'TherapyType',\n",
    "    'Symptom Severity (1-10)': 'SymptomSeverity',\n",
    "    'Mood Score (1-10)': 'MoodScore',\n",
    "    'Sleep Quality (1-10)': 'SleepQuality',\n",
    "    'Physical Activity (hrs/week)': 'PhysicalActivity',\n",
    "    'Treatment Duration (weeks)': 'TreatmentDuration',\n",
    "    'Stress Level (1-10)': 'StressLevel',\n",
    "    'Treatment Progress (1-10)': 'TreatmentProgress',\n",
    "    'Adherence to Treatment (%)': 'TreatmentAdherence',\n",
    "})\n",
    "\n",
    "df.dtypes\n"
   ]
  },
  {
   "cell_type": "markdown",
   "metadata": {
    "id": "BRRV3CzVx3-Q"
   },
   "source": [
    "# Convert classes to Id"
   ]
  },
  {
   "cell_type": "code",
   "execution_count": null,
   "metadata": {
    "id": "IOWrW4trvPzk"
   },
   "outputs": [],
   "source": [
    "\n",
    "def classToId(df: pd.DataFrame, featureName):\n",
    "  classes = pd.DataFrame({featureName: df[featureName].unique()})\n",
    "  classes = classes.sort_values(by=[featureName]).reset_index(drop=True)\n",
    "  classes[f\"{featureName}Id\"] = classes.index\n",
    "  return classes\n",
    "\n",
    "genderMap = classToId(df[[\"Gender\"]], \"Gender\")\n",
    "diagnosisMap = classToId(df[[\"Diagnosis\"]], \"Diagnosis\")\n",
    "medicationMap = classToId(df[[\"Medication\"]], \"Medication\")\n",
    "therapyTypeMap = classToId(df[[\"TherapyType\"]], \"TherapyType\")\n",
    "\n",
    "# Outcome OutcomeId\n",
    "outcomeMap = pd.DataFrame({\"Outcome\": [\"Deteriorated\", \"No Change\", \"Improved\"], \"OutcomeId\": [-1, 0, 1]})\n",
    "\n",
    "df = df.merge(right=genderMap, how=\"left\", on=\"Gender\")\n",
    "df = df.merge(right=diagnosisMap, how=\"left\", on=\"Diagnosis\")\n",
    "df = df.merge(right=medicationMap, how=\"left\", on=\"Medication\")\n",
    "df = df.merge(right=therapyTypeMap, how=\"left\", on=\"TherapyType\")\n",
    "df = df.merge(right=outcomeMap, how=\"left\", on=\"Outcome\")\n"
   ]
  },
  {
   "cell_type": "markdown",
   "metadata": {
    "id": "ceyTfbMQ5kY4"
   },
   "source": [
    "# Analysis"
   ]
  },
  {
   "cell_type": "code",
   "execution_count": null,
   "metadata": {
    "colab": {
     "base_uri": "https://localhost:8080/",
     "height": 338
    },
    "id": "ejLzdvPAsDKP",
    "outputId": "d5a417e4-2190-4aaf-9405-6b80e9dd094d"
   },
   "outputs": [],
   "source": [
    "df.describe()"
   ]
  },
  {
   "cell_type": "markdown",
   "metadata": {},
   "source": [
    "# Classify age"
   ]
  },
  {
   "cell_type": "code",
   "execution_count": null,
   "metadata": {},
   "outputs": [],
   "source": [
    "def ageGroupClassify(age):\n",
    "    # Min age 18\n",
    "    # Max age 60\n",
    "    # (60 - 18) / 3 groups = range 14\n",
    "    if 18 <= age < 32:\n",
    "        return 1\n",
    "    elif 32 <= age < 46:\n",
    "        return 2\n",
    "    else:\n",
    "        return 3\n",
    "\n",
    "df[\"AgeGroupId\"] = df[\"Age\"].apply(ageGroupClassify)"
   ]
  },
  {
   "cell_type": "markdown",
   "metadata": {},
   "source": [
    "# Therapy by"
   ]
  },
  {
   "cell_type": "code",
   "execution_count": null,
   "metadata": {},
   "outputs": [],
   "source": [
    "\n",
    "def getTherapyByAttributeScore(attribute):\n",
    "    dfTherapyBy = df.groupby(by=[attribute, \"TherapyTypeId\", \"OutcomeId\"]).agg({\"Outcome\": \"count\"}).reset_index()\n",
    "\n",
    "    def getTotalOutcomes(row):\n",
    "        return dfTherapyBy[(dfTherapyBy[attribute] == row[attribute]) & (dfTherapyBy[\"TherapyTypeId\"] == row[\"TherapyTypeId\"])][\"Outcome\"].sum()\n",
    "\n",
    "    def getImprovedRate(row):\n",
    "        successCount = dfTherapyBy[(dfTherapyBy[attribute] == row[attribute]) & (dfTherapyBy[\"TherapyTypeId\"] == row[\"TherapyTypeId\"]) & (dfTherapyBy[\"OutcomeId\"] == 1)][\"Outcome\"].sum()\n",
    "        return successCount / row[\"TotalOutcomes\"]\n",
    "\n",
    "    dfTherapyByScore = dfTherapyBy[[attribute, \"TherapyTypeId\"]].drop_duplicates()\n",
    "    dfTherapyByScore[\"TotalOutcomes\"] = dfTherapyByScore.apply(getTotalOutcomes, axis=1)\n",
    "    dfTherapyByScore[f\"{attribute}ImprovedRate\"] = dfTherapyByScore.apply(getImprovedRate, axis=1)\n",
    "    dfTherapyByScore[f\"{attribute}ByTherapyScore\"] = dfTherapyByScore[f\"{attribute}ImprovedRate\"] + np.log2(dfTherapyByScore[\"TotalOutcomes\"])\n",
    "    return dfTherapyByScore\n",
    "\n",
    "\n",
    "featuresClasses = [\"DiagnosisId\", \"AgeGroupId\", \"MedicationId\"]\n",
    "for feature in featuresClasses:\n",
    "    featureScore = getTherapyByAttributeScore(attribute=feature)\n",
    "    df = df.merge(right=featureScore[[feature, \"TherapyTypeId\", f\"{feature}ImprovedRate\", f\"{feature}ByTherapyScore\"]], on=[feature, \"TherapyTypeId\"])\n"
   ]
  },
  {
   "cell_type": "code",
   "execution_count": null,
   "metadata": {
    "colab": {
     "base_uri": "https://localhost:8080/",
     "height": 508
    },
    "id": "Teai8NMptx94",
    "outputId": "e6c6d6ca-bb55-4266-8b0f-4f656493e257"
   },
   "outputs": [],
   "source": [
    "df_corr = df[[\"Age\", \"SymptomSeverity\", \"MoodScore\", \"SleepQuality\", \"PhysicalActivity\", \"TreatmentDuration\", \"StressLevel\", \"TreatmentProgress\", \"TreatmentAdherence\", \"GenderId\", \"DiagnosisId\", \"MedicationId\", \"TherapyTypeId\", \"OutcomeId\"]].corr(method=\"pearson\")\n",
    "\n",
    "def maxCorrelation(row):\n",
    "    filtered_row = row[(row.abs() != 1)].abs()  # Exclude 1\n",
    "    if not filtered_row.empty:\n",
    "        return filtered_row.max()  # Return max value if there's any value left\n",
    "    return None  # Return None if no value other than 1 is found\n",
    "\n",
    "# Apply the function to each row\n",
    "df_corr['MaxCorrelation'] = df_corr.apply(maxCorrelation, axis=1)\n",
    "\n",
    "df_corr"
   ]
  },
  {
   "cell_type": "markdown",
   "metadata": {
    "id": "Bc16ryOV6cPG"
   },
   "source": [
    "# Set Features"
   ]
  },
  {
   "cell_type": "code",
   "execution_count": null,
   "metadata": {
    "id": "oVnhb2Fq6ZVw"
   },
   "outputs": [],
   "source": [
    "# X = df[[\"Age\", \"SymptomSeverity\", \"MoodScore\", \"SleepQuality\", \"PhysicalActivity\", \"TreatmentDuration\", \"StressLevel\", \"TreatmentProgress\", \"TreatmentAdherence\", \"GenderId\", \"MedicationId\", \"TherapyTypeId\", \"DiagnosisId\"]].values\n",
    "# y = df[\"OutcomeId\"].values\n",
    "\n",
    "dfSuccessOutcome = df[df[\"OutcomeId\"] == 1]\n",
    "scoreFeatures = np.concatenate([ [f\"{feature}ImprovedRate\", f\"{feature}ByTherapyScore\"] for feature in featuresClasses ])\n",
    "\n",
    "# X = dfSuccessOutcome[[\"Age\", \"SymptomSeverity\", \"MoodScore\", \"SleepQuality\", \"PhysicalActivity\", \"TreatmentDuration\", \"StressLevel\", \"TreatmentProgress\", \"TreatmentAdherence\", \"GenderId\", \"MedicationId\", \"DiagnosisId\"]].values\n",
    "X = dfSuccessOutcome[scoreFeatures].values\n",
    "y = dfSuccessOutcome[\"TherapyTypeId\"].values\n",
    "\n"
   ]
  },
  {
   "cell_type": "markdown",
   "metadata": {
    "id": "pGfdIEcf7Eg8"
   },
   "source": [
    "# Set Hyperparams"
   ]
  },
  {
   "cell_type": "code",
   "execution_count": null,
   "metadata": {
    "id": "rUdJRMzS7G8W"
   },
   "outputs": [],
   "source": [
    "# Definir espaços de hiperparâmetros para cada modelo\n",
    "models_hyperparams = {\n",
    "    'NaiveBayes': {\n",
    "        'var_smoothing': [1e-9, 1e-8, 1e-7]  # Controls variance in GaussianNB\n",
    "    },\n",
    "    'DecisionTree': {\n",
    "        'criterion': ['gini', 'entropy'],  # Measure for quality of a split\n",
    "        'max_depth': [None, 10, 20, 30],   # Limits tree depth to avoid overfitting\n",
    "        'min_samples_split': [2, 5, 10],   # Minimum samples required to split\n",
    "        'min_samples_leaf': [1, 2, 4]      # Minimum samples at a leaf node\n",
    "    },\n",
    "    'SVM': {\n",
    "        'C': [0.1, 1, 10, 100],            # Regularization parameter\n",
    "        'kernel': ['linear', 'rbf', 'poly'],  # Kernel types\n",
    "        'gamma': ['scale'],        # Kernel coefficient\n",
    "        # 'gamma': ['scale', 'auto'],        # Kernel coefficient\n",
    "    },\n",
    "    'KNN': {\n",
    "        'n_neighbors': [3, 5, 7, 9],       # Number of neighbors\n",
    "        'weights': ['uniform', 'distance'], # Weight function\n",
    "        'metric': ['euclidean', 'manhattan'] # Distance metric\n",
    "    },\n",
    "    'NeuralNetwork': {\n",
    "        'hidden_layer_sizes': [(50,), (100,), (100, 50), (50, 50, 50)],  # Various architectures\n",
    "        'activation': ['relu', 'tanh', 'logistic'],                      # Activation functions\n",
    "        'solver': ['adam', 'sgd'],                                       # Optimizers\n",
    "        'learning_rate': ['constant', 'adaptive'],                       # Learning rate schedule\n",
    "        'max_iter': [200, 500, 1000],                                    # Iteration limits\n",
    "        'alpha': [0.0001, 0.001, 0.01],                                  # L2 regularization term\n",
    "    }\n",
    "}\n",
    "\n",
    "def optimize_model(model, param_grid, X_train, y_train):\n",
    "    pipeline = Pipeline(steps=[('model', model)])\n",
    "    param_grid_pipeline = {f\"model__{key}\": value for key, value in param_grid.items()}\n",
    "\n",
    "    # Executa o GridSearchCV no pipeline\n",
    "    grid_search = GridSearchCV(pipeline, param_grid_pipeline, cv=3, scoring='neg_mean_squared_error', n_jobs=-1)\n",
    "    grid_search.fit(X_train, y_train)\n",
    "    return grid_search.best_estimator_\n"
   ]
  },
  {
   "cell_type": "markdown",
   "metadata": {
    "id": "6dRzfGZ8-iV_"
   },
   "source": [
    "# Train Models"
   ]
  },
  {
   "cell_type": "code",
   "execution_count": null,
   "metadata": {
    "colab": {
     "base_uri": "https://localhost:8080/"
    },
    "id": "w1Hfiqcq-eqV",
    "outputId": "55cd1ee1-8778-4510-f20c-31b422444e6a"
   },
   "outputs": [],
   "source": [
    "models = {\n",
    "    \"NaiveBayes\": GaussianNB(),\n",
    "    \"DecisionTree\": DecisionTreeClassifier(),\n",
    "    \"SVM\": SVC(),\n",
    "    \"KNN\": KNeighborsClassifier(),\n",
    "    \"NeuralNetwork\": MLPClassifier()\n",
    "}\n",
    "\n",
    "cycles = 1\n",
    "results = {name: {\"accuracy\": [], \"f1_score\": []} for name in models.keys()}\n",
    "for cycle in range(cycles):\n",
    "    print(f\"--- Cycle {cycle+1} ---\")\n",
    "    X_train, X_test, y_train, y_test = train_test_split(X, y, test_size=0.7, random_state=42)\n",
    "    for model_name in models:\n",
    "        print(f\"Training {model_name}...\")\n",
    "        best_model = optimize_model(models[model_name], models_hyperparams[model_name], X_train, y_train)\n",
    "        best_model.fit(X_train, y_train)\n",
    "        y_pred = best_model.predict(X_test)\n",
    "\n",
    "        results[model_name][\"accuracy\"].append( accuracy_score(y_test, y_pred) )\n",
    "        results[model_name][\"f1_score\"].append( f1_score(y_test, y_pred, average='macro') )\n",
    "\n",
    "print(\"Train done.\")"
   ]
  },
  {
   "cell_type": "code",
   "execution_count": null,
   "metadata": {
    "colab": {
     "base_uri": "https://localhost:8080/",
     "height": 175
    },
    "id": "Hs1s1dXU_au1",
    "outputId": "b7412e45-8134-4315-d2aa-d08beceef91e"
   },
   "outputs": [],
   "source": [
    "summary = {\n",
    "    \"Model\": [],\n",
    "    \"Accuracy\": [],\n",
    "    \"F1-score\": []\n",
    "}\n",
    "\n",
    "for name, metrics in results.items():\n",
    "    summary[\"Model\"].append(name)\n",
    "    summary[\"Accuracy\"].append(np.mean(metrics[\"accuracy\"]))\n",
    "    summary[\"F1-score\"].append(np.mean(metrics[\"f1_score\"]))\n",
    "\n",
    "summary_df = pd.DataFrame(summary)\n",
    "display(summary_df)"
   ]
  }
 ],
 "metadata": {
  "colab": {
   "provenance": []
  },
  "kernelspec": {
   "display_name": "Python 3",
   "name": "python3"
  },
  "language_info": {
   "codemirror_mode": {
    "name": "ipython",
    "version": 3
   },
   "file_extension": ".py",
   "mimetype": "text/x-python",
   "name": "python",
   "nbconvert_exporter": "python",
   "pygments_lexer": "ipython3",
   "version": "3.11.0"
  }
 },
 "nbformat": 4,
 "nbformat_minor": 0
}
