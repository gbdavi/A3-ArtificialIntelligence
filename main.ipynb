{
 "cells": [
  {
   "cell_type": "code",
   "execution_count": 55,
   "metadata": {
    "id": "TSkfk-vDhh8F"
   },
   "outputs": [],
   "source": [
    "import pandas as pd\n",
    "import numpy as np\n",
    "import matplotlib.pyplot as plt\n",
    "\n",
    "from sklearn.naive_bayes import GaussianNB\n",
    "from sklearn.tree import DecisionTreeClassifier\n",
    "from sklearn.svm import SVC\n",
    "from sklearn.neighbors import KNeighborsClassifier\n",
    "from sklearn.neural_network import MLPClassifier\n",
    "\n",
    "from sklearn.model_selection import train_test_split, GridSearchCV\n",
    "from sklearn.pipeline import Pipeline\n",
    "from sklearn.metrics import confusion_matrix, ConfusionMatrixDisplay, accuracy_score, f1_score"
   ]
  },
  {
   "cell_type": "markdown",
   "metadata": {
    "id": "RccDw88s1tU2"
   },
   "source": [
    "# Read/rename data"
   ]
  },
  {
   "cell_type": "code",
   "execution_count": 56,
   "metadata": {
    "id": "74F33wnSicjp"
   },
   "outputs": [
    {
     "data": {
      "text/plain": [
       "Age                    int64\n",
       "Gender                object\n",
       "Diagnosis             object\n",
       "SymptomSeverity        int64\n",
       "MoodScore              int64\n",
       "SleepQuality           int64\n",
       "PhysicalActivity       int64\n",
       "Medication            object\n",
       "TherapyType           object\n",
       "TreatmentDuration      int64\n",
       "StressLevel            int64\n",
       "Outcome               object\n",
       "TreatmentProgress      int64\n",
       "TreatmentAdherence     int64\n",
       "dtype: object"
      ]
     },
     "execution_count": 56,
     "metadata": {},
     "output_type": "execute_result"
    }
   ],
   "source": [
    "df = pd.read_csv(\"content/mental_health_diagnosis_treatment_.csv\")\n",
    "\n",
    "df = df.drop([\"Patient ID\", \"AI-Detected Emotional State\", \"Treatment Start Date\"], axis=1)\n",
    "\n",
    "df = df.rename(columns={\n",
    "    'Therapy Type': 'TherapyType',\n",
    "    'Symptom Severity (1-10)': 'SymptomSeverity',\n",
    "    'Mood Score (1-10)': 'MoodScore',\n",
    "    'Sleep Quality (1-10)': 'SleepQuality',\n",
    "    'Physical Activity (hrs/week)': 'PhysicalActivity',\n",
    "    'Treatment Duration (weeks)': 'TreatmentDuration',\n",
    "    'Stress Level (1-10)': 'StressLevel',\n",
    "    'Treatment Progress (1-10)': 'TreatmentProgress',\n",
    "    'Adherence to Treatment (%)': 'TreatmentAdherence',\n",
    "})\n",
    "\n",
    "df.dtypes\n"
   ]
  },
  {
   "cell_type": "markdown",
   "metadata": {
    "id": "ceyTfbMQ5kY4"
   },
   "source": [
    "# Analysis"
   ]
  },
  {
   "cell_type": "code",
   "execution_count": 57,
   "metadata": {
    "colab": {
     "base_uri": "https://localhost:8080/",
     "height": 338
    },
    "id": "ejLzdvPAsDKP",
    "outputId": "d5a417e4-2190-4aaf-9405-6b80e9dd094d"
   },
   "outputs": [
    {
     "data": {
      "text/html": [
       "<div>\n",
       "<style scoped>\n",
       "    .dataframe tbody tr th:only-of-type {\n",
       "        vertical-align: middle;\n",
       "    }\n",
       "\n",
       "    .dataframe tbody tr th {\n",
       "        vertical-align: top;\n",
       "    }\n",
       "\n",
       "    .dataframe thead th {\n",
       "        text-align: right;\n",
       "    }\n",
       "</style>\n",
       "<table border=\"1\" class=\"dataframe\">\n",
       "  <thead>\n",
       "    <tr style=\"text-align: right;\">\n",
       "      <th></th>\n",
       "      <th>Age</th>\n",
       "      <th>SymptomSeverity</th>\n",
       "      <th>MoodScore</th>\n",
       "      <th>SleepQuality</th>\n",
       "      <th>PhysicalActivity</th>\n",
       "      <th>TreatmentDuration</th>\n",
       "      <th>StressLevel</th>\n",
       "      <th>TreatmentProgress</th>\n",
       "      <th>TreatmentAdherence</th>\n",
       "    </tr>\n",
       "  </thead>\n",
       "  <tbody>\n",
       "    <tr>\n",
       "      <th>count</th>\n",
       "      <td>500.000000</td>\n",
       "      <td>500.000000</td>\n",
       "      <td>500.000000</td>\n",
       "      <td>500.000000</td>\n",
       "      <td>500.000000</td>\n",
       "      <td>500.000000</td>\n",
       "      <td>500.000000</td>\n",
       "      <td>500.000000</td>\n",
       "      <td>500.00000</td>\n",
       "    </tr>\n",
       "    <tr>\n",
       "      <th>mean</th>\n",
       "      <td>38.708000</td>\n",
       "      <td>7.478000</td>\n",
       "      <td>5.482000</td>\n",
       "      <td>6.472000</td>\n",
       "      <td>5.216000</td>\n",
       "      <td>12.110000</td>\n",
       "      <td>7.542000</td>\n",
       "      <td>7.436000</td>\n",
       "      <td>75.45400</td>\n",
       "    </tr>\n",
       "    <tr>\n",
       "      <th>std</th>\n",
       "      <td>12.712433</td>\n",
       "      <td>1.706265</td>\n",
       "      <td>1.707486</td>\n",
       "      <td>1.668167</td>\n",
       "      <td>2.829374</td>\n",
       "      <td>2.440864</td>\n",
       "      <td>1.709409</td>\n",
       "      <td>1.725067</td>\n",
       "      <td>9.08697</td>\n",
       "    </tr>\n",
       "    <tr>\n",
       "      <th>min</th>\n",
       "      <td>18.000000</td>\n",
       "      <td>5.000000</td>\n",
       "      <td>3.000000</td>\n",
       "      <td>4.000000</td>\n",
       "      <td>1.000000</td>\n",
       "      <td>8.000000</td>\n",
       "      <td>5.000000</td>\n",
       "      <td>5.000000</td>\n",
       "      <td>60.00000</td>\n",
       "    </tr>\n",
       "    <tr>\n",
       "      <th>25%</th>\n",
       "      <td>28.000000</td>\n",
       "      <td>6.000000</td>\n",
       "      <td>4.000000</td>\n",
       "      <td>5.000000</td>\n",
       "      <td>3.000000</td>\n",
       "      <td>10.000000</td>\n",
       "      <td>6.000000</td>\n",
       "      <td>6.000000</td>\n",
       "      <td>67.00000</td>\n",
       "    </tr>\n",
       "    <tr>\n",
       "      <th>50%</th>\n",
       "      <td>38.000000</td>\n",
       "      <td>8.000000</td>\n",
       "      <td>5.000000</td>\n",
       "      <td>6.000000</td>\n",
       "      <td>5.000000</td>\n",
       "      <td>12.000000</td>\n",
       "      <td>8.000000</td>\n",
       "      <td>7.000000</td>\n",
       "      <td>76.00000</td>\n",
       "    </tr>\n",
       "    <tr>\n",
       "      <th>75%</th>\n",
       "      <td>50.000000</td>\n",
       "      <td>9.000000</td>\n",
       "      <td>7.000000</td>\n",
       "      <td>8.000000</td>\n",
       "      <td>8.000000</td>\n",
       "      <td>14.000000</td>\n",
       "      <td>9.000000</td>\n",
       "      <td>9.000000</td>\n",
       "      <td>84.00000</td>\n",
       "    </tr>\n",
       "    <tr>\n",
       "      <th>max</th>\n",
       "      <td>60.000000</td>\n",
       "      <td>10.000000</td>\n",
       "      <td>8.000000</td>\n",
       "      <td>9.000000</td>\n",
       "      <td>10.000000</td>\n",
       "      <td>16.000000</td>\n",
       "      <td>10.000000</td>\n",
       "      <td>10.000000</td>\n",
       "      <td>90.00000</td>\n",
       "    </tr>\n",
       "  </tbody>\n",
       "</table>\n",
       "</div>"
      ],
      "text/plain": [
       "              Age  SymptomSeverity   MoodScore  SleepQuality  \\\n",
       "count  500.000000       500.000000  500.000000    500.000000   \n",
       "mean    38.708000         7.478000    5.482000      6.472000   \n",
       "std     12.712433         1.706265    1.707486      1.668167   \n",
       "min     18.000000         5.000000    3.000000      4.000000   \n",
       "25%     28.000000         6.000000    4.000000      5.000000   \n",
       "50%     38.000000         8.000000    5.000000      6.000000   \n",
       "75%     50.000000         9.000000    7.000000      8.000000   \n",
       "max     60.000000        10.000000    8.000000      9.000000   \n",
       "\n",
       "       PhysicalActivity  TreatmentDuration  StressLevel  TreatmentProgress  \\\n",
       "count        500.000000         500.000000   500.000000         500.000000   \n",
       "mean           5.216000          12.110000     7.542000           7.436000   \n",
       "std            2.829374           2.440864     1.709409           1.725067   \n",
       "min            1.000000           8.000000     5.000000           5.000000   \n",
       "25%            3.000000          10.000000     6.000000           6.000000   \n",
       "50%            5.000000          12.000000     8.000000           7.000000   \n",
       "75%            8.000000          14.000000     9.000000           9.000000   \n",
       "max           10.000000          16.000000    10.000000          10.000000   \n",
       "\n",
       "       TreatmentAdherence  \n",
       "count           500.00000  \n",
       "mean             75.45400  \n",
       "std               9.08697  \n",
       "min              60.00000  \n",
       "25%              67.00000  \n",
       "50%              76.00000  \n",
       "75%              84.00000  \n",
       "max              90.00000  "
      ]
     },
     "execution_count": 57,
     "metadata": {},
     "output_type": "execute_result"
    }
   ],
   "source": [
    "df.describe()"
   ]
  },
  {
   "cell_type": "code",
   "execution_count": 58,
   "metadata": {
    "colab": {
     "base_uri": "https://localhost:8080/",
     "height": 508
    },
    "id": "Teai8NMptx94",
    "outputId": "e6c6d6ca-bb55-4266-8b0f-4f656493e257"
   },
   "outputs": [
    {
     "data": {
      "text/html": [
       "<div>\n",
       "<style scoped>\n",
       "    .dataframe tbody tr th:only-of-type {\n",
       "        vertical-align: middle;\n",
       "    }\n",
       "\n",
       "    .dataframe tbody tr th {\n",
       "        vertical-align: top;\n",
       "    }\n",
       "\n",
       "    .dataframe thead th {\n",
       "        text-align: right;\n",
       "    }\n",
       "</style>\n",
       "<table border=\"1\" class=\"dataframe\">\n",
       "  <thead>\n",
       "    <tr style=\"text-align: right;\">\n",
       "      <th></th>\n",
       "      <th>Age</th>\n",
       "      <th>SymptomSeverity</th>\n",
       "      <th>MoodScore</th>\n",
       "      <th>SleepQuality</th>\n",
       "      <th>PhysicalActivity</th>\n",
       "      <th>TreatmentDuration</th>\n",
       "      <th>StressLevel</th>\n",
       "      <th>TreatmentProgress</th>\n",
       "      <th>TreatmentAdherence</th>\n",
       "      <th>MaxCorrelation</th>\n",
       "    </tr>\n",
       "  </thead>\n",
       "  <tbody>\n",
       "    <tr>\n",
       "      <th>Age</th>\n",
       "      <td>1.000000</td>\n",
       "      <td>-0.029307</td>\n",
       "      <td>0.033086</td>\n",
       "      <td>-0.015412</td>\n",
       "      <td>0.000531</td>\n",
       "      <td>-0.107012</td>\n",
       "      <td>-0.038351</td>\n",
       "      <td>0.014498</td>\n",
       "      <td>-0.022374</td>\n",
       "      <td>0.107012</td>\n",
       "    </tr>\n",
       "    <tr>\n",
       "      <th>SymptomSeverity</th>\n",
       "      <td>-0.029307</td>\n",
       "      <td>1.000000</td>\n",
       "      <td>0.050077</td>\n",
       "      <td>0.037451</td>\n",
       "      <td>-0.003165</td>\n",
       "      <td>0.008522</td>\n",
       "      <td>-0.018921</td>\n",
       "      <td>-0.005586</td>\n",
       "      <td>-0.049310</td>\n",
       "      <td>0.050077</td>\n",
       "    </tr>\n",
       "    <tr>\n",
       "      <th>MoodScore</th>\n",
       "      <td>0.033086</td>\n",
       "      <td>0.050077</td>\n",
       "      <td>1.000000</td>\n",
       "      <td>0.064199</td>\n",
       "      <td>0.021962</td>\n",
       "      <td>-0.078622</td>\n",
       "      <td>-0.075265</td>\n",
       "      <td>0.052336</td>\n",
       "      <td>0.041277</td>\n",
       "      <td>0.078622</td>\n",
       "    </tr>\n",
       "    <tr>\n",
       "      <th>SleepQuality</th>\n",
       "      <td>-0.015412</td>\n",
       "      <td>0.037451</td>\n",
       "      <td>0.064199</td>\n",
       "      <td>1.000000</td>\n",
       "      <td>-0.007632</td>\n",
       "      <td>0.007402</td>\n",
       "      <td>0.036606</td>\n",
       "      <td>0.082247</td>\n",
       "      <td>0.018225</td>\n",
       "      <td>0.082247</td>\n",
       "    </tr>\n",
       "    <tr>\n",
       "      <th>PhysicalActivity</th>\n",
       "      <td>0.000531</td>\n",
       "      <td>-0.003165</td>\n",
       "      <td>0.021962</td>\n",
       "      <td>-0.007632</td>\n",
       "      <td>1.000000</td>\n",
       "      <td>-0.043202</td>\n",
       "      <td>0.013451</td>\n",
       "      <td>0.002838</td>\n",
       "      <td>-0.053863</td>\n",
       "      <td>0.053863</td>\n",
       "    </tr>\n",
       "    <tr>\n",
       "      <th>TreatmentDuration</th>\n",
       "      <td>-0.107012</td>\n",
       "      <td>0.008522</td>\n",
       "      <td>-0.078622</td>\n",
       "      <td>0.007402</td>\n",
       "      <td>-0.043202</td>\n",
       "      <td>1.000000</td>\n",
       "      <td>0.037554</td>\n",
       "      <td>-0.001418</td>\n",
       "      <td>-0.065593</td>\n",
       "      <td>0.107012</td>\n",
       "    </tr>\n",
       "    <tr>\n",
       "      <th>StressLevel</th>\n",
       "      <td>-0.038351</td>\n",
       "      <td>-0.018921</td>\n",
       "      <td>-0.075265</td>\n",
       "      <td>0.036606</td>\n",
       "      <td>0.013451</td>\n",
       "      <td>0.037554</td>\n",
       "      <td>1.000000</td>\n",
       "      <td>0.001933</td>\n",
       "      <td>-0.030839</td>\n",
       "      <td>0.075265</td>\n",
       "    </tr>\n",
       "    <tr>\n",
       "      <th>TreatmentProgress</th>\n",
       "      <td>0.014498</td>\n",
       "      <td>-0.005586</td>\n",
       "      <td>0.052336</td>\n",
       "      <td>0.082247</td>\n",
       "      <td>0.002838</td>\n",
       "      <td>-0.001418</td>\n",
       "      <td>0.001933</td>\n",
       "      <td>1.000000</td>\n",
       "      <td>-0.028505</td>\n",
       "      <td>0.082247</td>\n",
       "    </tr>\n",
       "    <tr>\n",
       "      <th>TreatmentAdherence</th>\n",
       "      <td>-0.022374</td>\n",
       "      <td>-0.049310</td>\n",
       "      <td>0.041277</td>\n",
       "      <td>0.018225</td>\n",
       "      <td>-0.053863</td>\n",
       "      <td>-0.065593</td>\n",
       "      <td>-0.030839</td>\n",
       "      <td>-0.028505</td>\n",
       "      <td>1.000000</td>\n",
       "      <td>0.065593</td>\n",
       "    </tr>\n",
       "  </tbody>\n",
       "</table>\n",
       "</div>"
      ],
      "text/plain": [
       "                         Age  SymptomSeverity  MoodScore  SleepQuality  \\\n",
       "Age                 1.000000        -0.029307   0.033086     -0.015412   \n",
       "SymptomSeverity    -0.029307         1.000000   0.050077      0.037451   \n",
       "MoodScore           0.033086         0.050077   1.000000      0.064199   \n",
       "SleepQuality       -0.015412         0.037451   0.064199      1.000000   \n",
       "PhysicalActivity    0.000531        -0.003165   0.021962     -0.007632   \n",
       "TreatmentDuration  -0.107012         0.008522  -0.078622      0.007402   \n",
       "StressLevel        -0.038351        -0.018921  -0.075265      0.036606   \n",
       "TreatmentProgress   0.014498        -0.005586   0.052336      0.082247   \n",
       "TreatmentAdherence -0.022374        -0.049310   0.041277      0.018225   \n",
       "\n",
       "                    PhysicalActivity  TreatmentDuration  StressLevel  \\\n",
       "Age                         0.000531          -0.107012    -0.038351   \n",
       "SymptomSeverity            -0.003165           0.008522    -0.018921   \n",
       "MoodScore                   0.021962          -0.078622    -0.075265   \n",
       "SleepQuality               -0.007632           0.007402     0.036606   \n",
       "PhysicalActivity            1.000000          -0.043202     0.013451   \n",
       "TreatmentDuration          -0.043202           1.000000     0.037554   \n",
       "StressLevel                 0.013451           0.037554     1.000000   \n",
       "TreatmentProgress           0.002838          -0.001418     0.001933   \n",
       "TreatmentAdherence         -0.053863          -0.065593    -0.030839   \n",
       "\n",
       "                    TreatmentProgress  TreatmentAdherence  MaxCorrelation  \n",
       "Age                          0.014498           -0.022374        0.107012  \n",
       "SymptomSeverity             -0.005586           -0.049310        0.050077  \n",
       "MoodScore                    0.052336            0.041277        0.078622  \n",
       "SleepQuality                 0.082247            0.018225        0.082247  \n",
       "PhysicalActivity             0.002838           -0.053863        0.053863  \n",
       "TreatmentDuration           -0.001418           -0.065593        0.107012  \n",
       "StressLevel                  0.001933           -0.030839        0.075265  \n",
       "TreatmentProgress            1.000000           -0.028505        0.082247  \n",
       "TreatmentAdherence          -0.028505            1.000000        0.065593  "
      ]
     },
     "execution_count": 58,
     "metadata": {},
     "output_type": "execute_result"
    }
   ],
   "source": [
    "df_corr = df[[\"Age\", \"SymptomSeverity\", \"MoodScore\", \"SleepQuality\", \"PhysicalActivity\", \"TreatmentDuration\", \"StressLevel\", \"TreatmentProgress\", \"TreatmentAdherence\"]].corr(method=\"pearson\")\n",
    "\n",
    "def maxCorrelation(row):\n",
    "    filtered_row = row[(row.abs() != 1)].abs()  # Exclude 1\n",
    "    if not filtered_row.empty:\n",
    "        return filtered_row.max()  # Return max value if there's any value left\n",
    "    return None  # Return None if no value other than 1 is found\n",
    "\n",
    "# Apply the function to each row\n",
    "df_corr['MaxCorrelation'] = df_corr.apply(maxCorrelation, axis=1)\n",
    "\n",
    "df_corr"
   ]
  },
  {
   "cell_type": "markdown",
   "metadata": {
    "id": "BRRV3CzVx3-Q"
   },
   "source": [
    "# Convert classes to Id"
   ]
  },
  {
   "cell_type": "code",
   "execution_count": 59,
   "metadata": {
    "id": "IOWrW4trvPzk"
   },
   "outputs": [],
   "source": [
    "\n",
    "def classToId(df: pd.DataFrame, featureName):\n",
    "  classes = pd.DataFrame({featureName: df[featureName].unique()})\n",
    "  classes = classes.sort_values(by=[featureName]).reset_index(drop=True)\n",
    "  classes[f\"{featureName}Id\"] = classes.index\n",
    "  return classes\n",
    "\n",
    "genderMap = classToId(df[[\"Gender\"]], \"Gender\")\n",
    "diagnosisMap = classToId(df[[\"Diagnosis\"]], \"Diagnosis\")\n",
    "medicationMap = classToId(df[[\"Medication\"]], \"Medication\")\n",
    "therapyTypeMap = classToId(df[[\"TherapyType\"]], \"TherapyType\")\n",
    "\n",
    "# Outcome OutcomeId\n",
    "outcomeMap = pd.DataFrame({\"Outcome\": [\"Deteriorated\", \"No Change\", \"Improved\"], \"OutcomeId\": [-1, 0, 1]})\n",
    "\n",
    "df = df.merge(right=genderMap, how=\"left\", on=\"Gender\")\n",
    "df = df.merge(right=diagnosisMap, how=\"left\", on=\"Diagnosis\")\n",
    "df = df.merge(right=medicationMap, how=\"left\", on=\"Medication\")\n",
    "df = df.merge(right=therapyTypeMap, how=\"left\", on=\"TherapyType\")\n",
    "df = df.merge(right=outcomeMap, how=\"left\", on=\"Outcome\")\n"
   ]
  },
  {
   "cell_type": "markdown",
   "metadata": {
    "id": "pGfdIEcf7Eg8"
   },
   "source": [
    "# Set Hyperparams"
   ]
  },
  {
   "cell_type": "code",
   "execution_count": 60,
   "metadata": {
    "id": "rUdJRMzS7G8W"
   },
   "outputs": [],
   "source": [
    "# Definir espaços de hiperparâmetros para cada modelo\n",
    "models_hyperparams = {\n",
    "    'NaiveBayes': {\n",
    "        'var_smoothing': [1e-9, 1e-8, 1e-7]  # Controls variance in GaussianNB\n",
    "    },\n",
    "    'DecisionTree': {\n",
    "        'criterion': ['gini', 'entropy'],  # Measure for quality of a split\n",
    "        'max_depth': [None, 10, 20, 30],   # Limits tree depth to avoid overfitting\n",
    "        'min_samples_split': [2, 5, 10],   # Minimum samples required to split\n",
    "        'min_samples_leaf': [1, 2, 4]      # Minimum samples at a leaf node\n",
    "    },\n",
    "    'SVM': {\n",
    "        'C': [0.1, 1, 10, 100],            # Regularization parameter\n",
    "        'kernel': ['linear', 'rbf', 'poly'],  # Kernel types\n",
    "        'gamma': ['scale'],        # Kernel coefficient\n",
    "        # 'gamma': ['scale', 'auto'],        # Kernel coefficient\n",
    "    },\n",
    "    'KNN': {\n",
    "        'n_neighbors': [3, 5, 7, 9],       # Number of neighbors\n",
    "        'weights': ['uniform', 'distance'], # Weight function\n",
    "        'metric': ['euclidean', 'manhattan'] # Distance metric\n",
    "    },\n",
    "    'NeuralNetwork': {\n",
    "        'hidden_layer_sizes': [(50,), (100,), (100, 50), (50, 50, 50)],  # Various architectures\n",
    "        'activation': ['relu', 'tanh', 'logistic'],                      # Activation functions\n",
    "        'solver': ['adam', 'sgd'],                                       # Optimizers\n",
    "        'learning_rate': ['constant', 'adaptive'],                       # Learning rate schedule\n",
    "        'max_iter': [200, 500, 1000],                                    # Iteration limits\n",
    "        'alpha': [0.0001, 0.001, 0.01],                                  # L2 regularization term\n",
    "    }\n",
    "}\n",
    "\n",
    "def optimize_model(model, param_grid, X_train, y_train):\n",
    "    pipeline = Pipeline(steps=[('model', model)])\n",
    "    param_grid_pipeline = {f\"model__{key}\": value for key, value in param_grid.items()}\n",
    "\n",
    "    # Executa o GridSearchCV no pipeline\n",
    "    grid_search = GridSearchCV(pipeline, param_grid_pipeline, cv=3, scoring='neg_mean_squared_error', n_jobs=-1)\n",
    "    grid_search.fit(X_train, y_train)\n",
    "    return grid_search.best_estimator_\n"
   ]
  },
  {
   "cell_type": "markdown",
   "metadata": {
    "id": "Bc16ryOV6cPG"
   },
   "source": [
    "# Set Features"
   ]
  },
  {
   "cell_type": "code",
   "execution_count": 61,
   "metadata": {
    "id": "oVnhb2Fq6ZVw"
   },
   "outputs": [],
   "source": [
    "dfSuccessOutcome = df[df[\"OutcomeId\"] == 1]\n",
    "\n",
    "X = dfSuccessOutcome[[\"Age\", \"SymptomSeverity\", \"MoodScore\", \"SleepQuality\", \"PhysicalActivity\", \"TreatmentDuration\", \"StressLevel\", \"TreatmentProgress\", \"TreatmentAdherence\", \"GenderId\", \"MedicationId\", \"DiagnosisId\", \"OutcomeId\"]].values\n",
    "y = dfSuccessOutcome[\"TherapyTypeId\"].values\n"
   ]
  },
  {
   "cell_type": "markdown",
   "metadata": {},
   "source": [
    "# Train Models"
   ]
  },
  {
   "cell_type": "code",
   "execution_count": 62,
   "metadata": {},
   "outputs": [
    {
     "name": "stdout",
     "output_type": "stream",
     "text": [
      "--- Cycle 1 ---\n",
      "Training NaiveBayes...\n",
      "Training DecisionTree...\n",
      "Training SVM...\n",
      "Training KNN...\n",
      "Training NeuralNetwork...\n"
     ]
    },
    {
     "name": "stderr",
     "output_type": "stream",
     "text": [
      "c:\\Users\\davibauer\\.pyenv\\pyenv-win\\versions\\3.11.0\\Lib\\site-packages\\sklearn\\neural_network\\_multilayer_perceptron.py:690: ConvergenceWarning: Stochastic Optimizer: Maximum iterations (1000) reached and the optimization hasn't converged yet.\n",
      "  warnings.warn(\n",
      "c:\\Users\\davibauer\\.pyenv\\pyenv-win\\versions\\3.11.0\\Lib\\site-packages\\sklearn\\neural_network\\_multilayer_perceptron.py:690: ConvergenceWarning: Stochastic Optimizer: Maximum iterations (1000) reached and the optimization hasn't converged yet.\n",
      "  warnings.warn(\n"
     ]
    },
    {
     "name": "stdout",
     "output_type": "stream",
     "text": [
      "--- Cycle 2 ---\n",
      "Training NaiveBayes...\n",
      "Training DecisionTree...\n",
      "Training SVM...\n",
      "Training KNN...\n",
      "Training NeuralNetwork...\n"
     ]
    },
    {
     "name": "stderr",
     "output_type": "stream",
     "text": [
      "c:\\Users\\davibauer\\.pyenv\\pyenv-win\\versions\\3.11.0\\Lib\\site-packages\\sklearn\\neural_network\\_multilayer_perceptron.py:690: ConvergenceWarning: Stochastic Optimizer: Maximum iterations (200) reached and the optimization hasn't converged yet.\n",
      "  warnings.warn(\n",
      "c:\\Users\\davibauer\\.pyenv\\pyenv-win\\versions\\3.11.0\\Lib\\site-packages\\sklearn\\neural_network\\_multilayer_perceptron.py:690: ConvergenceWarning: Stochastic Optimizer: Maximum iterations (200) reached and the optimization hasn't converged yet.\n",
      "  warnings.warn(\n"
     ]
    },
    {
     "name": "stdout",
     "output_type": "stream",
     "text": [
      "--- Cycle 3 ---\n",
      "Training NaiveBayes...\n",
      "Training DecisionTree...\n",
      "Training SVM...\n",
      "Training KNN...\n",
      "Training NeuralNetwork...\n",
      "Train done.\n"
     ]
    },
    {
     "name": "stderr",
     "output_type": "stream",
     "text": [
      "c:\\Users\\davibauer\\.pyenv\\pyenv-win\\versions\\3.11.0\\Lib\\site-packages\\sklearn\\neural_network\\_multilayer_perceptron.py:690: ConvergenceWarning: Stochastic Optimizer: Maximum iterations (500) reached and the optimization hasn't converged yet.\n",
      "  warnings.warn(\n",
      "c:\\Users\\davibauer\\.pyenv\\pyenv-win\\versions\\3.11.0\\Lib\\site-packages\\sklearn\\neural_network\\_multilayer_perceptron.py:690: ConvergenceWarning: Stochastic Optimizer: Maximum iterations (500) reached and the optimization hasn't converged yet.\n",
      "  warnings.warn(\n"
     ]
    }
   ],
   "source": [
    "models = {\n",
    "    \"NaiveBayes\": GaussianNB(),\n",
    "    \"DecisionTree\": DecisionTreeClassifier(),\n",
    "    \"SVM\": SVC(),\n",
    "    \"KNN\": KNeighborsClassifier(),\n",
    "    \"NeuralNetwork\": MLPClassifier()\n",
    "}\n",
    "\n",
    "cycles = 3\n",
    "results = {name: {\"accuracy\": []} for name in models.keys()}\n",
    "for cycle in range(cycles):\n",
    "    print(f\"--- Cycle {cycle+1} ---\")\n",
    "    X_train, X_test, y_train, y_test = train_test_split(X, y, test_size=0.7, random_state=42)\n",
    "    for model_name in models:\n",
    "        print(f\"Training {model_name}...\")\n",
    "        best_model = optimize_model(models[model_name], models_hyperparams[model_name], X_train, y_train)\n",
    "        best_model.fit(X_train, y_train)\n",
    "        y_pred = best_model.predict(X_test)\n",
    "\n",
    "        results[model_name][\"accuracy\"].append( accuracy_score(y_test, y_pred) )\n",
    "\n",
    "print(\"Train done.\")"
   ]
  },
  {
   "cell_type": "code",
   "execution_count": 63,
   "metadata": {},
   "outputs": [
    {
     "data": {
      "text/html": [
       "<div>\n",
       "<style scoped>\n",
       "    .dataframe tbody tr th:only-of-type {\n",
       "        vertical-align: middle;\n",
       "    }\n",
       "\n",
       "    .dataframe tbody tr th {\n",
       "        vertical-align: top;\n",
       "    }\n",
       "\n",
       "    .dataframe thead th {\n",
       "        text-align: right;\n",
       "    }\n",
       "</style>\n",
       "<table border=\"1\" class=\"dataframe\">\n",
       "  <thead>\n",
       "    <tr style=\"text-align: right;\">\n",
       "      <th></th>\n",
       "      <th>Model</th>\n",
       "      <th>Accuracy</th>\n",
       "    </tr>\n",
       "  </thead>\n",
       "  <tbody>\n",
       "    <tr>\n",
       "      <th>0</th>\n",
       "      <td>NaiveBayes</td>\n",
       "      <td>0.268908</td>\n",
       "    </tr>\n",
       "    <tr>\n",
       "      <th>1</th>\n",
       "      <td>DecisionTree</td>\n",
       "      <td>0.260504</td>\n",
       "    </tr>\n",
       "    <tr>\n",
       "      <th>2</th>\n",
       "      <td>SVM</td>\n",
       "      <td>0.285714</td>\n",
       "    </tr>\n",
       "    <tr>\n",
       "      <th>3</th>\n",
       "      <td>KNN</td>\n",
       "      <td>0.235294</td>\n",
       "    </tr>\n",
       "    <tr>\n",
       "      <th>4</th>\n",
       "      <td>NeuralNetwork</td>\n",
       "      <td>0.282913</td>\n",
       "    </tr>\n",
       "  </tbody>\n",
       "</table>\n",
       "</div>"
      ],
      "text/plain": [
       "           Model  Accuracy\n",
       "0     NaiveBayes  0.268908\n",
       "1   DecisionTree  0.260504\n",
       "2            SVM  0.285714\n",
       "3            KNN  0.235294\n",
       "4  NeuralNetwork  0.282913"
      ]
     },
     "metadata": {},
     "output_type": "display_data"
    }
   ],
   "source": [
    "summary = {\n",
    "    \"Model\": [],\n",
    "    \"Accuracy\": []\n",
    "}\n",
    "\n",
    "for name, metrics in results.items():\n",
    "    summary[\"Model\"].append(name)\n",
    "    summary[\"Accuracy\"].append(np.mean(metrics[\"accuracy\"]))\n",
    "\n",
    "summary_df = pd.DataFrame(summary)\n",
    "display(summary_df)"
   ]
  },
  {
   "cell_type": "markdown",
   "metadata": {},
   "source": [
    "# Classify age"
   ]
  },
  {
   "cell_type": "code",
   "execution_count": 64,
   "metadata": {},
   "outputs": [],
   "source": [
    "def ageGroupClassify(age):\n",
    "    # Min age 18\n",
    "    # Max age 60\n",
    "    # (60 - 18) / 3 groups = range 14\n",
    "    if 18 <= age < 32:\n",
    "        return 1\n",
    "    elif 32 <= age < 46:\n",
    "        return 2\n",
    "    else:\n",
    "        return 3\n",
    "\n",
    "df[\"AgeGroupId\"] = df[\"Age\"].apply(ageGroupClassify)"
   ]
  },
  {
   "cell_type": "markdown",
   "metadata": {},
   "source": [
    "# Therapy by"
   ]
  },
  {
   "cell_type": "code",
   "execution_count": 65,
   "metadata": {},
   "outputs": [],
   "source": [
    "\n",
    "def getTherapyByAttributeScore(attribute):\n",
    "    dfTherapyBy = df.groupby(by=[attribute, \"TherapyTypeId\", \"OutcomeId\"]).agg({\"Outcome\": \"count\"}).reset_index()\n",
    "\n",
    "    def getTotalOutcomes(row):\n",
    "        return dfTherapyBy[(dfTherapyBy[attribute] == row[attribute]) & (dfTherapyBy[\"TherapyTypeId\"] == row[\"TherapyTypeId\"])][\"Outcome\"].sum()\n",
    "\n",
    "    def getImprovedRate(row):\n",
    "        successCount = dfTherapyBy[(dfTherapyBy[attribute] == row[attribute]) & (dfTherapyBy[\"TherapyTypeId\"] == row[\"TherapyTypeId\"]) & (dfTherapyBy[\"OutcomeId\"] == 1)][\"Outcome\"].sum()\n",
    "        return successCount / row[\"TotalOutcomes\"]\n",
    "\n",
    "    dfTherapyByScore = dfTherapyBy[[attribute, \"TherapyTypeId\"]].drop_duplicates()\n",
    "    dfTherapyByScore[\"TotalOutcomes\"] = dfTherapyByScore.apply(getTotalOutcomes, axis=1)\n",
    "    dfTherapyByScore[f\"{attribute}ImprovedRate\"] = dfTherapyByScore.apply(getImprovedRate, axis=1)\n",
    "    dfTherapyByScore[f\"{attribute}ByTherapyScore\"] = dfTherapyByScore[f\"{attribute}ImprovedRate\"] + np.log2(dfTherapyByScore[\"TotalOutcomes\"])\n",
    "    return dfTherapyByScore\n",
    "\n",
    "\n",
    "featuresClasses = [\"DiagnosisId\", \"AgeGroupId\", \"MedicationId\"]\n",
    "for feature in featuresClasses:\n",
    "    featureScore = getTherapyByAttributeScore(attribute=feature)\n",
    "    df = df.merge(right=featureScore[[feature, \"TherapyTypeId\", f\"{feature}ImprovedRate\", f\"{feature}ByTherapyScore\"]], on=[feature, \"TherapyTypeId\"])\n"
   ]
  },
  {
   "cell_type": "markdown",
   "metadata": {},
   "source": [
    "# Set Features 2"
   ]
  },
  {
   "cell_type": "code",
   "execution_count": 66,
   "metadata": {},
   "outputs": [],
   "source": [
    "dfSuccessOutcome = df[df[\"OutcomeId\"] == 1]\n",
    "scoreFeatures = np.concatenate([ [f\"{feature}ImprovedRate\", f\"{feature}ByTherapyScore\"] for feature in featuresClasses ])\n",
    "\n",
    "X = dfSuccessOutcome[scoreFeatures].values\n",
    "y = dfSuccessOutcome[\"TherapyTypeId\"].values"
   ]
  },
  {
   "cell_type": "markdown",
   "metadata": {
    "id": "6dRzfGZ8-iV_"
   },
   "source": [
    "# Train Models 2"
   ]
  },
  {
   "cell_type": "code",
   "execution_count": 67,
   "metadata": {
    "colab": {
     "base_uri": "https://localhost:8080/"
    },
    "id": "w1Hfiqcq-eqV",
    "outputId": "55cd1ee1-8778-4510-f20c-31b422444e6a"
   },
   "outputs": [
    {
     "name": "stdout",
     "output_type": "stream",
     "text": [
      "--- Cycle 1 ---\n",
      "Training NaiveBayes...\n",
      "Training DecisionTree...\n",
      "Training SVM...\n",
      "Training KNN...\n",
      "Training NeuralNetwork...\n",
      "--- Cycle 2 ---\n",
      "Training NaiveBayes...\n",
      "Training DecisionTree...\n",
      "Training SVM...\n",
      "Training KNN...\n",
      "Training NeuralNetwork...\n"
     ]
    },
    {
     "name": "stderr",
     "output_type": "stream",
     "text": [
      "c:\\Users\\davibauer\\.pyenv\\pyenv-win\\versions\\3.11.0\\Lib\\site-packages\\sklearn\\neural_network\\_multilayer_perceptron.py:690: ConvergenceWarning: Stochastic Optimizer: Maximum iterations (500) reached and the optimization hasn't converged yet.\n",
      "  warnings.warn(\n"
     ]
    },
    {
     "name": "stdout",
     "output_type": "stream",
     "text": [
      "--- Cycle 3 ---\n",
      "Training NaiveBayes...\n",
      "Training DecisionTree...\n",
      "Training SVM...\n",
      "Training KNN...\n",
      "Training NeuralNetwork...\n",
      "Train done.\n"
     ]
    },
    {
     "name": "stderr",
     "output_type": "stream",
     "text": [
      "c:\\Users\\davibauer\\.pyenv\\pyenv-win\\versions\\3.11.0\\Lib\\site-packages\\sklearn\\neural_network\\_multilayer_perceptron.py:690: ConvergenceWarning: Stochastic Optimizer: Maximum iterations (1000) reached and the optimization hasn't converged yet.\n",
      "  warnings.warn(\n"
     ]
    }
   ],
   "source": [
    "models = {\n",
    "    \"NaiveBayes\": GaussianNB(),\n",
    "    \"DecisionTree\": DecisionTreeClassifier(),\n",
    "    \"SVM\": SVC(),\n",
    "    \"KNN\": KNeighborsClassifier(),\n",
    "    \"NeuralNetwork\": MLPClassifier()\n",
    "}\n",
    "\n",
    "cycles = 3\n",
    "results = {name: {\"accuracy\": []} for name in models.keys()}\n",
    "for cycle in range(cycles):\n",
    "    print(f\"--- Cycle {cycle+1} ---\")\n",
    "    X_train, X_test, y_train, y_test = train_test_split(X, y, test_size=0.7, random_state=42)\n",
    "    for model_name in models:\n",
    "        print(f\"Training {model_name}...\")\n",
    "        best_model = optimize_model(models[model_name], models_hyperparams[model_name], X_train, y_train)\n",
    "        best_model.fit(X_train, y_train)\n",
    "        y_pred = best_model.predict(X_test)\n",
    "\n",
    "        results[model_name][\"accuracy\"].append( accuracy_score(y_test, y_pred) )\n",
    "\n",
    "print(\"Train done.\")"
   ]
  },
  {
   "cell_type": "code",
   "execution_count": 68,
   "metadata": {
    "colab": {
     "base_uri": "https://localhost:8080/",
     "height": 175
    },
    "id": "Hs1s1dXU_au1",
    "outputId": "b7412e45-8134-4315-d2aa-d08beceef91e"
   },
   "outputs": [
    {
     "data": {
      "text/html": [
       "<div>\n",
       "<style scoped>\n",
       "    .dataframe tbody tr th:only-of-type {\n",
       "        vertical-align: middle;\n",
       "    }\n",
       "\n",
       "    .dataframe tbody tr th {\n",
       "        vertical-align: top;\n",
       "    }\n",
       "\n",
       "    .dataframe thead th {\n",
       "        text-align: right;\n",
       "    }\n",
       "</style>\n",
       "<table border=\"1\" class=\"dataframe\">\n",
       "  <thead>\n",
       "    <tr style=\"text-align: right;\">\n",
       "      <th></th>\n",
       "      <th>Model</th>\n",
       "      <th>Accuracy</th>\n",
       "    </tr>\n",
       "  </thead>\n",
       "  <tbody>\n",
       "    <tr>\n",
       "      <th>0</th>\n",
       "      <td>NaiveBayes</td>\n",
       "      <td>0.705882</td>\n",
       "    </tr>\n",
       "    <tr>\n",
       "      <th>1</th>\n",
       "      <td>DecisionTree</td>\n",
       "      <td>0.826331</td>\n",
       "    </tr>\n",
       "    <tr>\n",
       "      <th>2</th>\n",
       "      <td>SVM</td>\n",
       "      <td>0.689076</td>\n",
       "    </tr>\n",
       "    <tr>\n",
       "      <th>3</th>\n",
       "      <td>KNN</td>\n",
       "      <td>0.773109</td>\n",
       "    </tr>\n",
       "    <tr>\n",
       "      <th>4</th>\n",
       "      <td>NeuralNetwork</td>\n",
       "      <td>0.537815</td>\n",
       "    </tr>\n",
       "  </tbody>\n",
       "</table>\n",
       "</div>"
      ],
      "text/plain": [
       "           Model  Accuracy\n",
       "0     NaiveBayes  0.705882\n",
       "1   DecisionTree  0.826331\n",
       "2            SVM  0.689076\n",
       "3            KNN  0.773109\n",
       "4  NeuralNetwork  0.537815"
      ]
     },
     "metadata": {},
     "output_type": "display_data"
    }
   ],
   "source": [
    "summary = {\n",
    "    \"Model\": [],\n",
    "    \"Accuracy\": []\n",
    "}\n",
    "\n",
    "for name, metrics in results.items():\n",
    "    summary[\"Model\"].append(name)\n",
    "    summary[\"Accuracy\"].append(np.mean(metrics[\"accuracy\"]))\n",
    "\n",
    "summary_df = pd.DataFrame(summary)\n",
    "display(summary_df)"
   ]
  }
 ],
 "metadata": {
  "colab": {
   "provenance": []
  },
  "kernelspec": {
   "display_name": "Python 3",
   "name": "python3"
  },
  "language_info": {
   "codemirror_mode": {
    "name": "ipython",
    "version": 3
   },
   "file_extension": ".py",
   "mimetype": "text/x-python",
   "name": "python",
   "nbconvert_exporter": "python",
   "pygments_lexer": "ipython3",
   "version": "3.11.0"
  }
 },
 "nbformat": 4,
 "nbformat_minor": 0
}
